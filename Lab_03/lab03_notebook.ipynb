{
 "cells": [
  {
   "cell_type": "code",
   "execution_count": 17,
   "metadata": {},
   "outputs": [],
   "source": [
    "import glob \n",
    "import pandas as pd\n",
    "from os import scandir"
   ]
  },
  {
   "cell_type": "code",
   "execution_count": 18,
   "metadata": {},
   "outputs": [],
   "source": [
    "# MAC\n",
    "\n",
    "# name_files = scandir(\"names\")\n",
    "# df = pd.DataFrame()\n",
    "# i = 0\n",
    "# for file in name_files:\n",
    "#     year = file.name[3:7]\n",
    "#     with open(f\"names/{file.name}\", \"r\") as handle:\n",
    "#         lines = handle.read().splitlines()\n",
    "#     names = [[year] + line.split(\",\") for line in lines]\n",
    "#     df = df.join(pd.DataFrame(names, columns=[\"year\", \"name\", \"gender\", \"populairity\"]))\n",
    "#     i += 1\n",
    "#     if i == 2:\n",
    "#         break\n",
    "# df\n"
   ]
  },
  {
   "cell_type": "code",
   "execution_count": 19,
   "metadata": {},
   "outputs": [
    {
     "name": "stdout",
     "output_type": "stream",
     "text": [
      "          name sex  count  year\n",
      "0         Mary   F  72173  1922\n",
      "1      Dorothy   F  37716  1922\n",
      "2        Helen   F  32508  1922\n",
      "3     Margaret   F  26865  1922\n",
      "4         Ruth   F  23630  1922\n",
      "...        ...  ..    ...   ...\n",
      "8941     Wyley   M      5  1937\n",
      "8942      Ynes   M      5  1937\n",
      "8943   Yoshito   M      5  1937\n",
      "8944  Zacarias   M      5  1937\n",
      "8945     Zelma   M      5  1937\n",
      "\n",
      "[1957046 rows x 4 columns]\n"
     ]
    }
   ],
   "source": [
    "# WINDOWS\n",
    "\n",
    "name_files = scandir(\"names\")\n",
    "df = pd.DataFrame()\n",
    "all_data = pd.DataFrame()\n",
    "for file in glob.glob(\"./names/*.txt\"):\n",
    "    df = pd.read_csv(file, sep=',', header=None)\n",
    "    df[\"year\"] = int(file[11:15])\n",
    "    all_data = pd.concat([all_data, df])\n",
    "df = all_data\n",
    "df.columns = [\"name\", \"sex\", \"count\", \"year\"]\n",
    "print(df)"
   ]
  },
  {
   "cell_type": "code",
   "execution_count": 22,
   "metadata": {},
   "outputs": [
    {
     "name": "stdout",
     "output_type": "stream",
     "text": [
      "            count   year\n",
      "name                    \n",
      "Noah       180904  20135\n",
      "Jacob      173195  20135\n",
      "William    163811  20135\n",
      "Liam       161558  20135\n",
      "Ethan      157359  20135\n",
      "...           ...    ...\n",
      "Javere          5   2016\n",
      "Thorbjorn       5   2017\n",
      "Javez           5   2010\n",
      "Dailey          5   2016\n",
      "Sayhan          5   2017\n",
      "\n",
      "[25604 rows x 2 columns]\n",
      "                count   year\n",
      "name                        \n",
      "Emma           195305  20135\n",
      "Sophia         183930  20135\n",
      "Olivia         183016  20135\n",
      "Isabella       179015  20135\n",
      "Ava            156852  20135\n",
      "...               ...    ...\n",
      "Naiima              5   2018\n",
      "Aramide             5   2017\n",
      "Elizabethanne       5   2015\n",
      "Elizabel            5   2009\n",
      "Kayleemarie         5   2011\n",
      "\n",
      "[34967 rows x 2 columns]\n"
     ]
    }
   ],
   "source": [
    "filtr_09_18_M = (df.year <= 2018) & (df.year >= 2009) & (df.sex == 'M')\n",
    "filtr_09_18_F = (df.year <= 2018) & (df.year >= 2009) & (df.sex == 'F')\n",
    "print(df.loc[filtr_09_18_M].groupby(\"name\").sum().sort_values(by=\"count\", ascending=False))\n",
    "print(df.loc[filtr_09_18_F].groupby(\"name\").sum().sort_values(by=\"count\", ascending=False))"
   ]
  },
  {
   "cell_type": "code",
   "execution_count": 35,
   "metadata": {},
   "outputs": [
    {
     "name": "stdout",
     "output_type": "stream",
     "text": [
      "Between years 1990 and 2000 there were born 21437454 boys and 19816748 girls.\n"
     ]
    }
   ],
   "source": [
    "\"\"\"\n",
    "Question 2: How many girls and how many boys were born between 1990 and 2000?\n",
    "\"\"\"\n",
    "children_1990_2000 = df[df.year.between(1990, 2000, inclusive=\"both\")]\n",
    "boys_1990_2000 = children_1990_2000[children_1990_2000.sex == \"M\"]\n",
    "girls_1990_2000 = children_1990_2000[children_1990_2000.sex == \"F\"]\n",
    "\n",
    "boys_total = boys_1990_2000[\"count\"].sum()\n",
    "girls_total = girls_1990_2000[\"count\"].sum()\n",
    "\n",
    "print(f\"Between years 1990 and 2000 there were born {boys_total} boys and {girls_total} girls.\")"
   ]
  },
  {
   "cell_type": "code",
   "execution_count": null,
   "metadata": {},
   "outputs": [],
   "source": []
  }
 ],
 "metadata": {
  "kernelspec": {
   "display_name": "Python 3 (ipykernel)",
   "language": "python",
   "name": "python3"
  },
  "language_info": {
   "codemirror_mode": {
    "name": "ipython",
    "version": 3
   },
   "file_extension": ".py",
   "mimetype": "text/x-python",
   "name": "python",
   "nbconvert_exporter": "python",
   "pygments_lexer": "ipython3",
   "version": "3.10.6"
  },
  "vscode": {
   "interpreter": {
    "hash": "8ef62e107a064dbfd5e93c8f3e183a806b4e7ca7d8553a94a3d8653eafa81f18"
   }
  }
 },
 "nbformat": 4,
 "nbformat_minor": 2
}
