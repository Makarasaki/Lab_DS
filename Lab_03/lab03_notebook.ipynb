{
 "cells": [
  {
   "cell_type": "code",
   "execution_count": 6,
   "metadata": {},
   "outputs": [],
   "source": [
    "import glob \n",
    "import pandas as pd\n",
    "from os import scandir"
   ]
  },
  {
   "cell_type": "code",
   "execution_count": 7,
   "metadata": {},
   "outputs": [],
   "source": [
    "# MAC\n",
    "\n",
    "# name_files = scandir(\"names\")\n",
    "# df = pd.DataFrame()\n",
    "# i = 0\n",
    "# for file in name_files:\n",
    "#     year = file.name[3:7]\n",
    "#     with open(f\"names/{file.name}\", \"r\") as handle:\n",
    "#         lines = handle.read().splitlines()\n",
    "#     names = [[year] + line.split(\",\") for line in lines]\n",
    "#     df = df.join(pd.DataFrame(names, columns=[\"year\", \"name\", \"gender\", \"populairity\"]))\n",
    "#     i += 1\n",
    "#     if i == 2:\n",
    "#         break\n",
    "# df\n"
   ]
  },
  {
   "cell_type": "code",
   "execution_count": 18,
   "metadata": {},
   "outputs": [
    {
     "name": "stdout",
     "output_type": "stream",
     "text": [
      "               0  1     2  year\n",
      "0           Mary  F  7065  1880\n",
      "1           Anna  F  2604  1880\n",
      "2           Emma  F  2003  1880\n",
      "3      Elizabeth  F  1939  1880\n",
      "4         Minnie  F  1746  1880\n",
      "...          ... ..   ...   ...\n",
      "32028      Zylas  M     5  2018\n",
      "32029      Zyran  M     5  2018\n",
      "32030      Zyrie  M     5  2018\n",
      "32031      Zyron  M     5  2018\n",
      "32032      Zzyzx  M     5  2018\n",
      "\n",
      "[1957046 rows x 4 columns]\n"
     ]
    }
   ],
   "source": [
    "# WINDOWS\n",
    "\n",
    "name_files = scandir(\"names\")\n",
    "df = pd.DataFrame()\n",
    "all_data = pd.DataFrame()\n",
    "for file in glob.glob(\"./names/*.txt\"):\n",
    "    df = pd.read_csv(file, sep=',', header=None)\n",
    "    df[\"year\"] = int(file[11:15])\n",
    "    all_data = pd.concat([all_data, df])\n",
    "df = all_data\n",
    "print(df)"
   ]
  },
  {
   "cell_type": "code",
   "execution_count": 36,
   "metadata": {},
   "outputs": [
    {
     "name": "stdout",
     "output_type": "stream",
     "text": [
      "                2   year\n",
      "0                       \n",
      "Noah       180904  20135\n",
      "Jacob      173195  20135\n",
      "William    163811  20135\n",
      "Liam       161558  20135\n",
      "Ethan      157359  20135\n",
      "...           ...    ...\n",
      "Javere          5   2016\n",
      "Thorbjorn       5   2017\n",
      "Javez           5   2010\n",
      "Dailey          5   2016\n",
      "Sayhan          5   2017\n",
      "\n",
      "[25604 rows x 2 columns]\n",
      "                    2   year\n",
      "0                           \n",
      "Emma           195305  20135\n",
      "Sophia         183930  20135\n",
      "Olivia         183016  20135\n",
      "Isabella       179015  20135\n",
      "Ava            156852  20135\n",
      "...               ...    ...\n",
      "Naiima              5   2018\n",
      "Aramide             5   2017\n",
      "Elizabethanne       5   2015\n",
      "Elizabel            5   2009\n",
      "Kayleemarie         5   2011\n",
      "\n",
      "[34967 rows x 2 columns]\n"
     ]
    },
    {
     "name": "stderr",
     "output_type": "stream",
     "text": [
      "C:\\Users\\makal\\AppData\\Local\\Temp\\ipykernel_27796\\4000566838.py:3: FutureWarning: The default value of numeric_only in DataFrameGroupBy.sum is deprecated. In a future version, numeric_only will default to False. Either specify numeric_only or select only columns which should be valid for the function.\n",
      "  print(df.loc[filtr_09_18_M].groupby(0).sum().sort_values(by=2, ascending=False))\n",
      "C:\\Users\\makal\\AppData\\Local\\Temp\\ipykernel_27796\\4000566838.py:4: FutureWarning: The default value of numeric_only in DataFrameGroupBy.sum is deprecated. In a future version, numeric_only will default to False. Either specify numeric_only or select only columns which should be valid for the function.\n",
      "  print(df.loc[filtr_09_18_F].groupby(0).sum().sort_values(by=2, ascending=False))\n"
     ]
    }
   ],
   "source": [
    "filtr_09_18_M = (df.year <= 2018) & (df.year >= 2009) & (df[1] == 'M')\n",
    "filtr_09_18_F = (df.year <= 2018) & (df.year >= 2009) & (df[1] == 'F')\n",
    "print(df.loc[filtr_09_18_M].groupby(0).sum().sort_values(by=2, ascending=False))\n",
    "print(df.loc[filtr_09_18_F].groupby(0).sum().sort_values(by=2, ascending=False))"
   ]
  }
 ],
 "metadata": {
  "kernelspec": {
   "display_name": "Python 3",
   "language": "python",
   "name": "python3"
  },
  "language_info": {
   "codemirror_mode": {
    "name": "ipython",
    "version": 3
   },
   "file_extension": ".py",
   "mimetype": "text/x-python",
   "name": "python",
   "nbconvert_exporter": "python",
   "pygments_lexer": "ipython3",
   "version": "3.9.13"
  },
  "orig_nbformat": 4,
  "vscode": {
   "interpreter": {
    "hash": "8ef62e107a064dbfd5e93c8f3e183a806b4e7ca7d8553a94a3d8653eafa81f18"
   }
  }
 },
 "nbformat": 4,
 "nbformat_minor": 2
}
